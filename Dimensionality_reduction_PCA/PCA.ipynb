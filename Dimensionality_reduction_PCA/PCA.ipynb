{
  "nbformat": 4,
  "nbformat_minor": 0,
  "metadata": {
    "colab": {
      "name": "PCA.ipynb",
      "provenance": []
    },
    "kernelspec": {
      "name": "python3",
      "display_name": "Python 3"
    }
  },
  "cells": [
    {
      "cell_type": "markdown",
      "metadata": {
        "id": "TLRJ-s2Xf9CA",
        "colab_type": "text"
      },
      "source": [
        "## **PCA**\n",
        "principal component analysis"
      ]
    },
    {
      "cell_type": "markdown",
      "metadata": {
        "id": "Xf1nRvsmgMus",
        "colab_type": "text"
      },
      "source": [
        "Importing Required libraries"
      ]
    },
    {
      "cell_type": "code",
      "metadata": {
        "id": "dFs6zy5igMSN",
        "colab_type": "code",
        "colab": {}
      },
      "source": [
        "import numpy as np\n",
        "import pandas as pd\n",
        "import matplotlib.pyplot as plt"
      ],
      "execution_count": 1,
      "outputs": []
    },
    {
      "cell_type": "markdown",
      "metadata": {
        "id": "LpyCJFiqgiv-",
        "colab_type": "text"
      },
      "source": [
        "Setting max rows and max columns display in pandas"
      ]
    },
    {
      "cell_type": "code",
      "metadata": {
        "id": "Oqjjk_wLgpSR",
        "colab_type": "code",
        "colab": {}
      },
      "source": [
        "pd.set_option('display.max_rows',100)\n",
        "pd.set_option('display.max_columns',100)"
      ],
      "execution_count": 4,
      "outputs": []
    },
    {
      "cell_type": "markdown",
      "metadata": {
        "id": "XmiifTtogZBr",
        "colab_type": "text"
      },
      "source": [
        "Importing dataset"
      ]
    },
    {
      "cell_type": "code",
      "metadata": {
        "id": "OIZzNTZNfnWT",
        "colab_type": "code",
        "colab": {
          "base_uri": "https://localhost:8080/",
          "height": 659
        },
        "outputId": "c6fe2f37-6a6d-434f-d01b-cc9a1baf69cc"
      },
      "source": [
        "dataset=pd.read_csv('Wine.csv')\n",
        "dataset.head(20)"
      ],
      "execution_count": 7,
      "outputs": [
        {
          "output_type": "execute_result",
          "data": {
            "text/html": [
              "<div>\n",
              "<style scoped>\n",
              "    .dataframe tbody tr th:only-of-type {\n",
              "        vertical-align: middle;\n",
              "    }\n",
              "\n",
              "    .dataframe tbody tr th {\n",
              "        vertical-align: top;\n",
              "    }\n",
              "\n",
              "    .dataframe thead th {\n",
              "        text-align: right;\n",
              "    }\n",
              "</style>\n",
              "<table border=\"1\" class=\"dataframe\">\n",
              "  <thead>\n",
              "    <tr style=\"text-align: right;\">\n",
              "      <th></th>\n",
              "      <th>Alcohol</th>\n",
              "      <th>Malic_Acid</th>\n",
              "      <th>Ash</th>\n",
              "      <th>Ash_Alcanity</th>\n",
              "      <th>Magnesium</th>\n",
              "      <th>Total_Phenols</th>\n",
              "      <th>Flavanoids</th>\n",
              "      <th>Nonflavanoid_Phenols</th>\n",
              "      <th>Proanthocyanins</th>\n",
              "      <th>Color_Intensity</th>\n",
              "      <th>Hue</th>\n",
              "      <th>OD280</th>\n",
              "      <th>Proline</th>\n",
              "      <th>Customer_Segment</th>\n",
              "    </tr>\n",
              "  </thead>\n",
              "  <tbody>\n",
              "    <tr>\n",
              "      <th>0</th>\n",
              "      <td>14.23</td>\n",
              "      <td>1.71</td>\n",
              "      <td>2.43</td>\n",
              "      <td>15.6</td>\n",
              "      <td>127</td>\n",
              "      <td>2.80</td>\n",
              "      <td>3.06</td>\n",
              "      <td>0.28</td>\n",
              "      <td>2.29</td>\n",
              "      <td>5.64</td>\n",
              "      <td>1.04</td>\n",
              "      <td>3.92</td>\n",
              "      <td>1065</td>\n",
              "      <td>1</td>\n",
              "    </tr>\n",
              "    <tr>\n",
              "      <th>1</th>\n",
              "      <td>13.20</td>\n",
              "      <td>1.78</td>\n",
              "      <td>2.14</td>\n",
              "      <td>11.2</td>\n",
              "      <td>100</td>\n",
              "      <td>2.65</td>\n",
              "      <td>2.76</td>\n",
              "      <td>0.26</td>\n",
              "      <td>1.28</td>\n",
              "      <td>4.38</td>\n",
              "      <td>1.05</td>\n",
              "      <td>3.40</td>\n",
              "      <td>1050</td>\n",
              "      <td>1</td>\n",
              "    </tr>\n",
              "    <tr>\n",
              "      <th>2</th>\n",
              "      <td>13.16</td>\n",
              "      <td>2.36</td>\n",
              "      <td>2.67</td>\n",
              "      <td>18.6</td>\n",
              "      <td>101</td>\n",
              "      <td>2.80</td>\n",
              "      <td>3.24</td>\n",
              "      <td>0.30</td>\n",
              "      <td>2.81</td>\n",
              "      <td>5.68</td>\n",
              "      <td>1.03</td>\n",
              "      <td>3.17</td>\n",
              "      <td>1185</td>\n",
              "      <td>1</td>\n",
              "    </tr>\n",
              "    <tr>\n",
              "      <th>3</th>\n",
              "      <td>14.37</td>\n",
              "      <td>1.95</td>\n",
              "      <td>2.50</td>\n",
              "      <td>16.8</td>\n",
              "      <td>113</td>\n",
              "      <td>3.85</td>\n",
              "      <td>3.49</td>\n",
              "      <td>0.24</td>\n",
              "      <td>2.18</td>\n",
              "      <td>7.80</td>\n",
              "      <td>0.86</td>\n",
              "      <td>3.45</td>\n",
              "      <td>1480</td>\n",
              "      <td>1</td>\n",
              "    </tr>\n",
              "    <tr>\n",
              "      <th>4</th>\n",
              "      <td>13.24</td>\n",
              "      <td>2.59</td>\n",
              "      <td>2.87</td>\n",
              "      <td>21.0</td>\n",
              "      <td>118</td>\n",
              "      <td>2.80</td>\n",
              "      <td>2.69</td>\n",
              "      <td>0.39</td>\n",
              "      <td>1.82</td>\n",
              "      <td>4.32</td>\n",
              "      <td>1.04</td>\n",
              "      <td>2.93</td>\n",
              "      <td>735</td>\n",
              "      <td>1</td>\n",
              "    </tr>\n",
              "    <tr>\n",
              "      <th>5</th>\n",
              "      <td>14.20</td>\n",
              "      <td>1.76</td>\n",
              "      <td>2.45</td>\n",
              "      <td>15.2</td>\n",
              "      <td>112</td>\n",
              "      <td>3.27</td>\n",
              "      <td>3.39</td>\n",
              "      <td>0.34</td>\n",
              "      <td>1.97</td>\n",
              "      <td>6.75</td>\n",
              "      <td>1.05</td>\n",
              "      <td>2.85</td>\n",
              "      <td>1450</td>\n",
              "      <td>1</td>\n",
              "    </tr>\n",
              "    <tr>\n",
              "      <th>6</th>\n",
              "      <td>14.39</td>\n",
              "      <td>1.87</td>\n",
              "      <td>2.45</td>\n",
              "      <td>14.6</td>\n",
              "      <td>96</td>\n",
              "      <td>2.50</td>\n",
              "      <td>2.52</td>\n",
              "      <td>0.30</td>\n",
              "      <td>1.98</td>\n",
              "      <td>5.25</td>\n",
              "      <td>1.02</td>\n",
              "      <td>3.58</td>\n",
              "      <td>1290</td>\n",
              "      <td>1</td>\n",
              "    </tr>\n",
              "    <tr>\n",
              "      <th>7</th>\n",
              "      <td>14.06</td>\n",
              "      <td>2.15</td>\n",
              "      <td>2.61</td>\n",
              "      <td>17.6</td>\n",
              "      <td>121</td>\n",
              "      <td>2.60</td>\n",
              "      <td>2.51</td>\n",
              "      <td>0.31</td>\n",
              "      <td>1.25</td>\n",
              "      <td>5.05</td>\n",
              "      <td>1.06</td>\n",
              "      <td>3.58</td>\n",
              "      <td>1295</td>\n",
              "      <td>1</td>\n",
              "    </tr>\n",
              "    <tr>\n",
              "      <th>8</th>\n",
              "      <td>14.83</td>\n",
              "      <td>1.64</td>\n",
              "      <td>2.17</td>\n",
              "      <td>14.0</td>\n",
              "      <td>97</td>\n",
              "      <td>2.80</td>\n",
              "      <td>2.98</td>\n",
              "      <td>0.29</td>\n",
              "      <td>1.98</td>\n",
              "      <td>5.20</td>\n",
              "      <td>1.08</td>\n",
              "      <td>2.85</td>\n",
              "      <td>1045</td>\n",
              "      <td>1</td>\n",
              "    </tr>\n",
              "    <tr>\n",
              "      <th>9</th>\n",
              "      <td>13.86</td>\n",
              "      <td>1.35</td>\n",
              "      <td>2.27</td>\n",
              "      <td>16.0</td>\n",
              "      <td>98</td>\n",
              "      <td>2.98</td>\n",
              "      <td>3.15</td>\n",
              "      <td>0.22</td>\n",
              "      <td>1.85</td>\n",
              "      <td>7.22</td>\n",
              "      <td>1.01</td>\n",
              "      <td>3.55</td>\n",
              "      <td>1045</td>\n",
              "      <td>1</td>\n",
              "    </tr>\n",
              "    <tr>\n",
              "      <th>10</th>\n",
              "      <td>14.10</td>\n",
              "      <td>2.16</td>\n",
              "      <td>2.30</td>\n",
              "      <td>18.0</td>\n",
              "      <td>105</td>\n",
              "      <td>2.95</td>\n",
              "      <td>3.32</td>\n",
              "      <td>0.22</td>\n",
              "      <td>2.38</td>\n",
              "      <td>5.75</td>\n",
              "      <td>1.25</td>\n",
              "      <td>3.17</td>\n",
              "      <td>1510</td>\n",
              "      <td>1</td>\n",
              "    </tr>\n",
              "    <tr>\n",
              "      <th>11</th>\n",
              "      <td>14.12</td>\n",
              "      <td>1.48</td>\n",
              "      <td>2.32</td>\n",
              "      <td>16.8</td>\n",
              "      <td>95</td>\n",
              "      <td>2.20</td>\n",
              "      <td>2.43</td>\n",
              "      <td>0.26</td>\n",
              "      <td>1.57</td>\n",
              "      <td>5.00</td>\n",
              "      <td>1.17</td>\n",
              "      <td>2.82</td>\n",
              "      <td>1280</td>\n",
              "      <td>1</td>\n",
              "    </tr>\n",
              "    <tr>\n",
              "      <th>12</th>\n",
              "      <td>13.75</td>\n",
              "      <td>1.73</td>\n",
              "      <td>2.41</td>\n",
              "      <td>16.0</td>\n",
              "      <td>89</td>\n",
              "      <td>2.60</td>\n",
              "      <td>2.76</td>\n",
              "      <td>0.29</td>\n",
              "      <td>1.81</td>\n",
              "      <td>5.60</td>\n",
              "      <td>1.15</td>\n",
              "      <td>2.90</td>\n",
              "      <td>1320</td>\n",
              "      <td>1</td>\n",
              "    </tr>\n",
              "    <tr>\n",
              "      <th>13</th>\n",
              "      <td>14.75</td>\n",
              "      <td>1.73</td>\n",
              "      <td>2.39</td>\n",
              "      <td>11.4</td>\n",
              "      <td>91</td>\n",
              "      <td>3.10</td>\n",
              "      <td>3.69</td>\n",
              "      <td>0.43</td>\n",
              "      <td>2.81</td>\n",
              "      <td>5.40</td>\n",
              "      <td>1.25</td>\n",
              "      <td>2.73</td>\n",
              "      <td>1150</td>\n",
              "      <td>1</td>\n",
              "    </tr>\n",
              "    <tr>\n",
              "      <th>14</th>\n",
              "      <td>14.38</td>\n",
              "      <td>1.87</td>\n",
              "      <td>2.38</td>\n",
              "      <td>12.0</td>\n",
              "      <td>102</td>\n",
              "      <td>3.30</td>\n",
              "      <td>3.64</td>\n",
              "      <td>0.29</td>\n",
              "      <td>2.96</td>\n",
              "      <td>7.50</td>\n",
              "      <td>1.20</td>\n",
              "      <td>3.00</td>\n",
              "      <td>1547</td>\n",
              "      <td>1</td>\n",
              "    </tr>\n",
              "    <tr>\n",
              "      <th>15</th>\n",
              "      <td>13.63</td>\n",
              "      <td>1.81</td>\n",
              "      <td>2.70</td>\n",
              "      <td>17.2</td>\n",
              "      <td>112</td>\n",
              "      <td>2.85</td>\n",
              "      <td>2.91</td>\n",
              "      <td>0.30</td>\n",
              "      <td>1.46</td>\n",
              "      <td>7.30</td>\n",
              "      <td>1.28</td>\n",
              "      <td>2.88</td>\n",
              "      <td>1310</td>\n",
              "      <td>1</td>\n",
              "    </tr>\n",
              "    <tr>\n",
              "      <th>16</th>\n",
              "      <td>14.30</td>\n",
              "      <td>1.92</td>\n",
              "      <td>2.72</td>\n",
              "      <td>20.0</td>\n",
              "      <td>120</td>\n",
              "      <td>2.80</td>\n",
              "      <td>3.14</td>\n",
              "      <td>0.33</td>\n",
              "      <td>1.97</td>\n",
              "      <td>6.20</td>\n",
              "      <td>1.07</td>\n",
              "      <td>2.65</td>\n",
              "      <td>1280</td>\n",
              "      <td>1</td>\n",
              "    </tr>\n",
              "    <tr>\n",
              "      <th>17</th>\n",
              "      <td>13.83</td>\n",
              "      <td>1.57</td>\n",
              "      <td>2.62</td>\n",
              "      <td>20.0</td>\n",
              "      <td>115</td>\n",
              "      <td>2.95</td>\n",
              "      <td>3.40</td>\n",
              "      <td>0.40</td>\n",
              "      <td>1.72</td>\n",
              "      <td>6.60</td>\n",
              "      <td>1.13</td>\n",
              "      <td>2.57</td>\n",
              "      <td>1130</td>\n",
              "      <td>1</td>\n",
              "    </tr>\n",
              "    <tr>\n",
              "      <th>18</th>\n",
              "      <td>14.19</td>\n",
              "      <td>1.59</td>\n",
              "      <td>2.48</td>\n",
              "      <td>16.5</td>\n",
              "      <td>108</td>\n",
              "      <td>3.30</td>\n",
              "      <td>3.93</td>\n",
              "      <td>0.32</td>\n",
              "      <td>1.86</td>\n",
              "      <td>8.70</td>\n",
              "      <td>1.23</td>\n",
              "      <td>2.82</td>\n",
              "      <td>1680</td>\n",
              "      <td>1</td>\n",
              "    </tr>\n",
              "    <tr>\n",
              "      <th>19</th>\n",
              "      <td>13.64</td>\n",
              "      <td>3.10</td>\n",
              "      <td>2.56</td>\n",
              "      <td>15.2</td>\n",
              "      <td>116</td>\n",
              "      <td>2.70</td>\n",
              "      <td>3.03</td>\n",
              "      <td>0.17</td>\n",
              "      <td>1.66</td>\n",
              "      <td>5.10</td>\n",
              "      <td>0.96</td>\n",
              "      <td>3.36</td>\n",
              "      <td>845</td>\n",
              "      <td>1</td>\n",
              "    </tr>\n",
              "  </tbody>\n",
              "</table>\n",
              "</div>"
            ],
            "text/plain": [
              "    Alcohol  Malic_Acid   Ash  Ash_Alcanity  Magnesium  Total_Phenols  \\\n",
              "0     14.23        1.71  2.43          15.6        127           2.80   \n",
              "1     13.20        1.78  2.14          11.2        100           2.65   \n",
              "2     13.16        2.36  2.67          18.6        101           2.80   \n",
              "3     14.37        1.95  2.50          16.8        113           3.85   \n",
              "4     13.24        2.59  2.87          21.0        118           2.80   \n",
              "5     14.20        1.76  2.45          15.2        112           3.27   \n",
              "6     14.39        1.87  2.45          14.6         96           2.50   \n",
              "7     14.06        2.15  2.61          17.6        121           2.60   \n",
              "8     14.83        1.64  2.17          14.0         97           2.80   \n",
              "9     13.86        1.35  2.27          16.0         98           2.98   \n",
              "10    14.10        2.16  2.30          18.0        105           2.95   \n",
              "11    14.12        1.48  2.32          16.8         95           2.20   \n",
              "12    13.75        1.73  2.41          16.0         89           2.60   \n",
              "13    14.75        1.73  2.39          11.4         91           3.10   \n",
              "14    14.38        1.87  2.38          12.0        102           3.30   \n",
              "15    13.63        1.81  2.70          17.2        112           2.85   \n",
              "16    14.30        1.92  2.72          20.0        120           2.80   \n",
              "17    13.83        1.57  2.62          20.0        115           2.95   \n",
              "18    14.19        1.59  2.48          16.5        108           3.30   \n",
              "19    13.64        3.10  2.56          15.2        116           2.70   \n",
              "\n",
              "    Flavanoids  Nonflavanoid_Phenols  Proanthocyanins  Color_Intensity   Hue  \\\n",
              "0         3.06                  0.28             2.29             5.64  1.04   \n",
              "1         2.76                  0.26             1.28             4.38  1.05   \n",
              "2         3.24                  0.30             2.81             5.68  1.03   \n",
              "3         3.49                  0.24             2.18             7.80  0.86   \n",
              "4         2.69                  0.39             1.82             4.32  1.04   \n",
              "5         3.39                  0.34             1.97             6.75  1.05   \n",
              "6         2.52                  0.30             1.98             5.25  1.02   \n",
              "7         2.51                  0.31             1.25             5.05  1.06   \n",
              "8         2.98                  0.29             1.98             5.20  1.08   \n",
              "9         3.15                  0.22             1.85             7.22  1.01   \n",
              "10        3.32                  0.22             2.38             5.75  1.25   \n",
              "11        2.43                  0.26             1.57             5.00  1.17   \n",
              "12        2.76                  0.29             1.81             5.60  1.15   \n",
              "13        3.69                  0.43             2.81             5.40  1.25   \n",
              "14        3.64                  0.29             2.96             7.50  1.20   \n",
              "15        2.91                  0.30             1.46             7.30  1.28   \n",
              "16        3.14                  0.33             1.97             6.20  1.07   \n",
              "17        3.40                  0.40             1.72             6.60  1.13   \n",
              "18        3.93                  0.32             1.86             8.70  1.23   \n",
              "19        3.03                  0.17             1.66             5.10  0.96   \n",
              "\n",
              "    OD280  Proline  Customer_Segment  \n",
              "0    3.92     1065                 1  \n",
              "1    3.40     1050                 1  \n",
              "2    3.17     1185                 1  \n",
              "3    3.45     1480                 1  \n",
              "4    2.93      735                 1  \n",
              "5    2.85     1450                 1  \n",
              "6    3.58     1290                 1  \n",
              "7    3.58     1295                 1  \n",
              "8    2.85     1045                 1  \n",
              "9    3.55     1045                 1  \n",
              "10   3.17     1510                 1  \n",
              "11   2.82     1280                 1  \n",
              "12   2.90     1320                 1  \n",
              "13   2.73     1150                 1  \n",
              "14   3.00     1547                 1  \n",
              "15   2.88     1310                 1  \n",
              "16   2.65     1280                 1  \n",
              "17   2.57     1130                 1  \n",
              "18   2.82     1680                 1  \n",
              "19   3.36      845                 1  "
            ]
          },
          "metadata": {
            "tags": []
          },
          "execution_count": 7
        }
      ]
    },
    {
      "cell_type": "markdown",
      "metadata": {
        "id": "_NHKM5_AhQYN",
        "colab_type": "text"
      },
      "source": [
        "SInce no presence of categorical variables skipping encoding categorical variables step"
      ]
    },
    {
      "cell_type": "markdown",
      "metadata": {
        "id": "EpyO2YW5hvm1",
        "colab_type": "text"
      },
      "source": [
        "Splitting dataset into dependent and independent features i.e x and y"
      ]
    },
    {
      "cell_type": "code",
      "metadata": {
        "id": "SY0uHxLah39H",
        "colab_type": "code",
        "colab": {}
      },
      "source": [
        "x=dataset.iloc[:,:-1].values\n",
        "y=dataset.iloc[:,-1].values"
      ],
      "execution_count": 8,
      "outputs": []
    },
    {
      "cell_type": "markdown",
      "metadata": {
        "id": "Hzf7DXwphZSX",
        "colab_type": "text"
      },
      "source": [
        "Splitting dataset into train and test"
      ]
    },
    {
      "cell_type": "code",
      "metadata": {
        "id": "86g8as9DhYwW",
        "colab_type": "code",
        "colab": {}
      },
      "source": [
        "from sklearn.model_selection import train_test_split\n",
        "x_train,x_test,y_train,y_test=train_test_split(x,y,test_size=0.2,stratify=y,random_state=0) "
      ],
      "execution_count": 21,
      "outputs": []
    },
    {
      "cell_type": "markdown",
      "metadata": {
        "id": "I971TqoSi_sA",
        "colab_type": "text"
      },
      "source": [
        "here stratify parameters is used for equal amount of categorical targets in test set and random state for setting the seed it is very import when we implement in production codes"
      ]
    },
    {
      "cell_type": "markdown",
      "metadata": {
        "id": "_gAzwUo2jkSE",
        "colab_type": "text"
      },
      "source": [
        "Feature Scaling"
      ]
    },
    {
      "cell_type": "code",
      "metadata": {
        "id": "KQY3nOGtjni_",
        "colab_type": "code",
        "colab": {}
      },
      "source": [
        "from sklearn.preprocessing import StandardScaler\n",
        "sc=StandardScaler()\n",
        "x_train=sc.fit_transform(x_train)\n",
        "x_test=sc.transform(x_test)"
      ],
      "execution_count": 22,
      "outputs": []
    },
    {
      "cell_type": "markdown",
      "metadata": {
        "id": "eDvkANIAj-BT",
        "colab_type": "text"
      },
      "source": [
        "Applying PCA"
      ]
    },
    {
      "cell_type": "code",
      "metadata": {
        "id": "h9-TaCr8kBgI",
        "colab_type": "code",
        "colab": {}
      },
      "source": [
        "from sklearn.decomposition import PCA\n",
        "pca=PCA(n_components=2)\n",
        "x_train=pca.fit_transform(x_train)\n",
        "x_test=pca.transform(x_test)"
      ],
      "execution_count": 23,
      "outputs": []
    },
    {
      "cell_type": "markdown",
      "metadata": {
        "id": "5U78xWh-kY6D",
        "colab_type": "text"
      },
      "source": [
        "n_components parameter in pca indicates required number of principle components "
      ]
    },
    {
      "cell_type": "code",
      "metadata": {
        "id": "gytl13pNkmVy",
        "colab_type": "code",
        "colab": {
          "base_uri": "https://localhost:8080/",
          "height": 1000
        },
        "outputId": "e4431e62-cba9-4fd8-ac88-4620cf2b7230"
      },
      "source": [
        "print(x_train)"
      ],
      "execution_count": 18,
      "outputs": [
        {
          "output_type": "stream",
          "text": [
            "[[-2.17884511e+00 -1.07218467e+00]\n",
            " [-1.80819239e+00  1.57822344e+00]\n",
            " [ 1.09829474e+00  2.22124345e+00]\n",
            " [-2.55584748e+00 -1.66210369e+00]\n",
            " [ 1.85698063e+00  2.41573166e-01]\n",
            " [ 2.58288576e+00 -1.37668170e+00]\n",
            " [ 8.72876119e-01  2.25618512e+00]\n",
            " [-4.18384029e-01  2.35415681e+00]\n",
            " [-3.04977245e-01  2.27659433e+00]\n",
            " [ 2.14082532e+00 -1.10052871e+00]\n",
            " [-2.98136465e+00 -2.47159183e-01]\n",
            " [ 1.96188242e+00  1.25407738e+00]\n",
            " [-2.16177795e+00 -9.75966550e-01]\n",
            " [ 2.21976084e+00 -2.39507167e+00]\n",
            " [-2.30179529e+00 -2.05791962e-01]\n",
            " [-3.00953827e+00 -2.79141212e-01]\n",
            " [ 2.63443473e+00 -8.68313119e-01]\n",
            " [-1.09219965e+00 -3.53906625e+00]\n",
            " [ 2.62578435e+00 -2.96852840e-03]\n",
            " [ 1.98077342e-01  2.29193443e+00]\n",
            " [-2.67442753e+00 -2.58800132e+00]\n",
            " [-2.54763698e+00 -4.52703891e-01]\n",
            " [ 1.77416736e+00  8.43586940e-01]\n",
            " [-2.77786938e+00 -4.32090258e-01]\n",
            " [-2.86679938e+00 -1.87580875e+00]\n",
            " [ 1.35498845e+00  3.99545184e-02]\n",
            " [-2.43900474e+00  9.44074889e-02]\n",
            " [-2.27268121e+00  5.05883053e-01]\n",
            " [ 1.17887166e+00  2.50068415e+00]\n",
            " [-2.30673313e+00  1.30502777e+00]\n",
            " [-2.53020738e+00 -5.51277126e-01]\n",
            " [ 1.63200028e-01  1.29107817e+00]\n",
            " [ 2.57881158e+00 -1.17515982e+00]\n",
            " [-7.62471566e-01  3.16097049e+00]\n",
            " [ 2.57005937e+00 -9.66718786e-02]\n",
            " [-4.78337042e-01  5.77763823e-01]\n",
            " [ 5.47417096e-01 -3.77647780e-01]\n",
            " [ 3.55763538e+00 -1.45816125e+00]\n",
            " [ 1.69260971e+00  1.37844174e+00]\n",
            " [ 2.65288395e+00 -2.39399539e-01]\n",
            " [-3.62047411e+00 -6.90153979e-01]\n",
            " [-1.61462317e+00 -2.41170340e+00]\n",
            " [ 1.50959767e+00  1.32717326e+00]\n",
            " [ 5.36413494e-02  2.07680094e+00]\n",
            " [-1.07889168e-01  2.85115217e+00]\n",
            " [-2.39610454e+00 -2.45883860e+00]\n",
            " [-3.12315181e+00  4.23261512e-01]\n",
            " [ 3.28569649e+00 -3.22859884e-01]\n",
            " [-3.55506872e+00 -1.74242946e+00]\n",
            " [-3.87020538e-01  2.61510101e+00]\n",
            " [-4.74514016e-01  1.98023790e+00]\n",
            " [-1.06865761e+00  6.78906271e-01]\n",
            " [ 1.08546036e+00  1.30817801e+00]\n",
            " [ 2.02340107e+00  1.56926094e+00]\n",
            " [ 2.76257094e+00 -1.85603600e+00]\n",
            " [ 2.06778286e+00 -1.35861191e+00]\n",
            " [ 9.06600653e-01  2.04110996e+00]\n",
            " [ 3.52336455e+00 -1.39946872e+00]\n",
            " [-3.79914321e+00 -4.92727617e-02]\n",
            " [ 1.75250993e+00  4.64283651e-01]\n",
            " [-3.46539192e+00 -7.90385134e-01]\n",
            " [ 3.16221605e+00 -8.39879111e-01]\n",
            " [ 2.37656864e+00 -1.72475988e+00]\n",
            " [ 1.31278073e+00  8.53348760e-01]\n",
            " [ 3.57258440e+00 -1.78091597e+00]\n",
            " [ 9.50877158e-01  2.38927332e+00]\n",
            " [ 4.95461316e-01  2.16498322e+00]\n",
            " [ 3.79294638e+00 -2.92787186e+00]\n",
            " [-2.37978591e+00 -2.13572422e+00]\n",
            " [-1.50346992e+00  1.39146991e+00]\n",
            " [ 2.50566646e+00 -1.30365941e+00]\n",
            " [-6.97535788e-01  2.78160736e-01]\n",
            " [-7.25562555e-01  2.54007170e+00]\n",
            " [ 9.24047324e-01  1.46344718e+00]\n",
            " [-1.25151294e+00  2.74792621e-02]\n",
            " [ 2.20937835e+00 -8.05690832e-01]\n",
            " [-3.84416995e+00 -5.74263508e-01]\n",
            " [-1.77983157e+00 -1.38012167e+00]\n",
            " [ 4.35413058e+00 -2.33750318e+00]\n",
            " [ 3.33834347e+00 -1.51169086e+00]\n",
            " [-1.44769123e+00  1.90826204e+00]\n",
            " [-2.75066706e+00 -2.07100640e+00]\n",
            " [ 2.79475799e+00 -1.36659228e+00]\n",
            " [ 1.84642601e+00 -6.82481476e-01]\n",
            " [-4.13332842e-01  2.20440158e+00]\n",
            " [-4.81356617e-02  1.17469609e+00]\n",
            " [ 1.99166500e+00 -2.50860656e-01]\n",
            " [ 2.26421169e+00 -1.32120813e+00]\n",
            " [ 7.85551414e-01 -2.46487051e-01]\n",
            " [-3.32586984e+00 -2.14485564e+00]\n",
            " [ 1.00496881e+00  7.20390295e-01]\n",
            " [ 2.31479633e+00  2.62129546e-01]\n",
            " [ 8.67032066e-01  1.36440259e+00]\n",
            " [-2.28629769e+00 -4.54244754e-01]\n",
            " [ 3.14452871e+00 -1.29318898e+00]\n",
            " [-1.65297942e+00  1.74177394e+00]\n",
            " [-2.84689388e+00 -7.78426712e-02]\n",
            " [-2.68393126e+00 -2.53813173e-01]\n",
            " [ 1.97280128e+00 -1.70171835e+00]\n",
            " [ 1.63120111e+00  7.24762688e-01]\n",
            " [-2.05082836e+00 -2.11848206e-01]\n",
            " [ 2.28798382e+00 -1.95899701e+00]\n",
            " [-2.28266458e+00 -2.07243579e-01]\n",
            " [-3.45079842e-01  1.92360626e+00]\n",
            " [ 1.49448758e+00 -7.18673825e-01]\n",
            " [ 2.26695932e+00 -7.93531817e-01]\n",
            " [-3.44673144e-01  1.92686997e+00]\n",
            " [ 2.75927029e+00 -1.56391999e+00]\n",
            " [-2.86839562e+00 -1.85579453e+00]\n",
            " [-1.46228982e+00  1.22151405e+00]\n",
            " [-3.31754434e+00 -1.20382601e+00]\n",
            " [ 1.72057718e+00 -1.36843828e-01]\n",
            " [-2.90065973e+00 -3.71521776e-01]\n",
            " [-2.30532411e+00 -2.14386284e+00]\n",
            " [-3.51377495e+00 -1.17981731e+00]\n",
            " [ 2.32780065e+00 -2.95396131e-01]\n",
            " [ 1.54528723e+00  1.99996309e+00]\n",
            " [-3.32660657e-01  2.37118865e+00]\n",
            " [ 4.96648201e-01  9.57282660e-01]\n",
            " [ 6.69654741e-01  3.80907536e+00]\n",
            " [-2.76009366e+00 -1.48785734e+00]\n",
            " [-3.19187371e+00 -2.70815669e+00]\n",
            " [-6.05023707e-01  1.10583182e+00]\n",
            " [-1.34006934e+00  1.51232906e+00]\n",
            " [ 1.05506599e+00 -9.49724036e-01]\n",
            " [ 1.16017702e+00  1.39768493e+00]\n",
            " [-2.87675356e+00 -1.15157946e+00]\n",
            " [-2.35838421e+00 -2.44842974e+00]\n",
            " [ 2.54704855e+00 -1.86824592e+00]\n",
            " [ 3.20597222e+00 -1.85912926e+00]\n",
            " [-2.69949485e+00 -1.75638262e-01]\n",
            " [-9.67436859e-01  1.81399824e+00]\n",
            " [-1.46454259e+00  1.01680272e+00]\n",
            " [-4.04000223e-01  2.40815711e+00]\n",
            " [ 1.46393837e+00 -6.90763351e-01]\n",
            " [ 1.15903114e+00 -2.91379684e-01]\n",
            " [ 2.82057099e+00 -8.99578955e-01]\n",
            " [-5.01011897e-01  2.68453162e+00]\n",
            " [ 3.30453915e-01  2.43396193e+00]\n",
            " [ 1.09727608e-02  1.99585453e+00]\n",
            " [ 2.89176687e+00 -7.71555485e-01]\n",
            " [-2.44830439e+00 -2.11360296e+00]]\n"
          ],
          "name": "stdout"
        }
      ]
    },
    {
      "cell_type": "markdown",
      "metadata": {
        "id": "tpwhqU_tktOC",
        "colab_type": "text"
      },
      "source": [
        "From above output we can observe the reduction in dimensionality of training set into 2 principal components"
      ]
    },
    {
      "cell_type": "markdown",
      "metadata": {
        "id": "R2VmhprJklnn",
        "colab_type": "text"
      },
      "source": [
        "Training logistic regression model on training set"
      ]
    },
    {
      "cell_type": "code",
      "metadata": {
        "id": "HH9UUEOVlCLB",
        "colab_type": "code",
        "colab": {
          "base_uri": "https://localhost:8080/",
          "height": 105
        },
        "outputId": "fe105fe8-6ea0-4d7b-a245-ba1b9443f164"
      },
      "source": [
        "from sklearn.linear_model import LogisticRegression\n",
        "lr=LogisticRegression(random_state=0)\n",
        "lr.fit(x_train,y_train)"
      ],
      "execution_count": 24,
      "outputs": [
        {
          "output_type": "execute_result",
          "data": {
            "text/plain": [
              "LogisticRegression(C=1.0, class_weight=None, dual=False, fit_intercept=True,\n",
              "                   intercept_scaling=1, l1_ratio=None, max_iter=100,\n",
              "                   multi_class='auto', n_jobs=None, penalty='l2',\n",
              "                   random_state=0, solver='lbfgs', tol=0.0001, verbose=0,\n",
              "                   warm_start=False)"
            ]
          },
          "metadata": {
            "tags": []
          },
          "execution_count": 24
        }
      ]
    },
    {
      "cell_type": "markdown",
      "metadata": {
        "id": "yqxwGpDEla2v",
        "colab_type": "text"
      },
      "source": [
        "Predicting the results on test set"
      ]
    },
    {
      "cell_type": "code",
      "metadata": {
        "id": "iESdcRqPle1c",
        "colab_type": "code",
        "colab": {
          "base_uri": "https://localhost:8080/",
          "height": 87
        },
        "outputId": "2738f498-2fbf-4849-bbb5-d1f95fa52a3e"
      },
      "source": [
        "from sklearn.metrics import confusion_matrix,accuracy_score\n",
        "y_pred=lr.predict(x_test)\n",
        "cm=confusion_matrix(y_test,y_pred)\n",
        "print(cm)\n",
        "accuracy_score(y_test,y_pred)"
      ],
      "execution_count": 25,
      "outputs": [
        {
          "output_type": "stream",
          "text": [
            "[[11  1  0]\n",
            " [ 1 13  0]\n",
            " [ 0  0 10]]\n"
          ],
          "name": "stdout"
        },
        {
          "output_type": "execute_result",
          "data": {
            "text/plain": [
              "0.9444444444444444"
            ]
          },
          "metadata": {
            "tags": []
          },
          "execution_count": 25
        }
      ]
    },
    {
      "cell_type": "markdown",
      "metadata": {
        "id": "moGzR65Ao9wg",
        "colab_type": "text"
      },
      "source": [
        "Visualizing the training results"
      ]
    },
    {
      "cell_type": "code",
      "metadata": {
        "id": "MBY4UD7XpDYh",
        "colab_type": "code",
        "colab": {
          "base_uri": "https://localhost:8080/",
          "height": 368
        },
        "outputId": "91c45298-3ff2-4e5d-e856-2c6e13301418"
      },
      "source": [
        "from matplotlib.colors import ListedColormap\n",
        "X_set, y_set = x_train, y_train\n",
        "X1, X2 = np.meshgrid(np.arange(start = X_set[:, 0].min() - 1, stop = X_set[:, 0].max() + 1, step = 0.01),\n",
        "                     np.arange(start = X_set[:, 1].min() - 1, stop = X_set[:, 1].max() + 1, step = 0.01))\n",
        "plt.contourf(X1, X2,lr.predict(np.array([X1.ravel(), X2.ravel()]).T).reshape(X1.shape),\n",
        "             alpha = 0.75, cmap = ListedColormap(('red', 'green', 'blue')))\n",
        "plt.xlim(X1.min(), X1.max())\n",
        "plt.ylim(X2.min(), X2.max())\n",
        "for i, j in enumerate(np.unique(y_set)):\n",
        "    plt.scatter(X_set[y_set == j, 0], X_set[y_set == j, 1],\n",
        "                c = ListedColormap(('red', 'green', 'blue'))(i), label = j)\n",
        "plt.title('Logistic Regression (Training set)')\n",
        "plt.xlabel('PC1')\n",
        "plt.ylabel('PC2')\n",
        "plt.legend()\n",
        "plt.show()"
      ],
      "execution_count": 27,
      "outputs": [
        {
          "output_type": "stream",
          "text": [
            "*c* argument looks like a single numeric RGB or RGBA sequence, which should be avoided as value-mapping will have precedence in case its length matches with *x* & *y*.  Please use the *color* keyword-argument or provide a 2-D array with a single row if you intend to specify the same RGB or RGBA value for all points.\n",
            "*c* argument looks like a single numeric RGB or RGBA sequence, which should be avoided as value-mapping will have precedence in case its length matches with *x* & *y*.  Please use the *color* keyword-argument or provide a 2-D array with a single row if you intend to specify the same RGB or RGBA value for all points.\n",
            "*c* argument looks like a single numeric RGB or RGBA sequence, which should be avoided as value-mapping will have precedence in case its length matches with *x* & *y*.  Please use the *color* keyword-argument or provide a 2-D array with a single row if you intend to specify the same RGB or RGBA value for all points.\n"
          ],
          "name": "stderr"
        },
        {
          "output_type": "display_data",
          "data": {
            "image/png": "[encoded data removed]",
            "text/plain": [
              "<Figure size 432x288 with 1 Axes>"
            ]
          },
          "metadata": {
            "tags": [],
            "needs_background": "light"
          }
        }
      ]
    },
    {
      "cell_type": "markdown",
      "metadata": {
        "id": "ZLnWQ5YSpsZ4",
        "colab_type": "text"
      },
      "source": [
        "Visualizing the test set"
      ]
    },
    {
      "cell_type": "code",
      "metadata": {
        "id": "RRQnPMCepvTa",
        "colab_type": "code",
        "colab": {
          "base_uri": "https://localhost:8080/",
          "height": 368
        },
        "outputId": "85d8be58-bcce-4197-fc43-686e6c28d42d"
      },
      "source": [
        "from matplotlib.colors import ListedColormap\n",
        "X_set, y_set = x_test, y_test\n",
        "X1, X2 = np.meshgrid(np.arange(start = X_set[:, 0].min() - 1, stop = X_set[:, 0].max() + 1, step = 0.01),\n",
        "                     np.arange(start = X_set[:, 1].min() - 1, stop = X_set[:, 1].max() + 1, step = 0.01))\n",
        "plt.contourf(X1, X2, lr.predict(np.array([X1.ravel(), X2.ravel()]).T).reshape(X1.shape),\n",
        "             alpha = 0.75, cmap = ListedColormap(('red', 'green', 'blue')))\n",
        "plt.xlim(X1.min(), X1.max())\n",
        "plt.ylim(X2.min(), X2.max())\n",
        "for i, j in enumerate(np.unique(y_set)):\n",
        "    plt.scatter(X_set[y_set == j, 0], X_set[y_set == j, 1],\n",
        "                c = ListedColormap(('red', 'green', 'blue'))(i), label = j)\n",
        "plt.title('Logistic Regression (Test set)')\n",
        "plt.xlabel('PC1')\n",
        "plt.ylabel('PC2')\n",
        "plt.legend()\n",
        "plt.show()"
      ],
      "execution_count": 28,
      "outputs": [
        {
          "output_type": "stream",
          "text": [
            "*c* argument looks like a single numeric RGB or RGBA sequence, which should be avoided as value-mapping will have precedence in case its length matches with *x* & *y*.  Please use the *color* keyword-argument or provide a 2-D array with a single row if you intend to specify the same RGB or RGBA value for all points.\n",
            "*c* argument looks like a single numeric RGB or RGBA sequence, which should be avoided as value-mapping will have precedence in case its length matches with *x* & *y*.  Please use the *color* keyword-argument or provide a 2-D array with a single row if you intend to specify the same RGB or RGBA value for all points.\n",
            "*c* argument looks like a single numeric RGB or RGBA sequence, which should be avoided as value-mapping will have precedence in case its length matches with *x* & *y*.  Please use the *color* keyword-argument or provide a 2-D array with a single row if you intend to specify the same RGB or RGBA value for all points.\n"
          ],
          "name": "stderr"
        },
        {
          "output_type": "display_data",
          "data": {
            "image/png": "[encoded data removed]",
            "text/plain": [
              "<Figure size 432x288 with 1 Axes>"
            ]
          },
          "metadata": {
            "tags": [],
            "needs_background": "light"
          }
        }
      ]
    }
  ]
}
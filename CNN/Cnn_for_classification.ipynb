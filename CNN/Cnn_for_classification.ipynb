{
  "nbformat": 4,
  "nbformat_minor": 0,
  "metadata": {
    "colab": {
      "name": "Cnn for classification.ipynb",
      "provenance": []
    },
    "kernelspec": {
      "name": "python3",
      "display_name": "Python 3"
    }
  },
  "cells": [
    {
      "cell_type": "markdown",
      "metadata": {
        "id": "IJhWkFj8G6Vx",
        "colab_type": "text"
      },
      "source": [
        "**Convolution Neural Network**"
      ]
    },
    {
      "cell_type": "markdown",
      "metadata": {
        "id": "XDLBmG5sHCNi",
        "colab_type": "text"
      },
      "source": [
        "importing the libraries"
      ]
    },
    {
      "cell_type": "code",
      "metadata": {
        "id": "ebjcUSucG6AK",
        "colab_type": "code",
        "colab": {}
      },
      "source": [
        "import tensorflow as tf\n",
        "from keras.preprocessing.image import ImageDataGenerator"
      ],
      "execution_count": 1,
      "outputs": []
    },
    {
      "cell_type": "code",
      "metadata": {
        "id": "j3cLy3HgHP-l",
        "colab_type": "code",
        "colab": {
          "base_uri": "https://localhost:8080/",
          "height": 35
        },
        "outputId": "f5b523bc-e11b-4afd-945a-86d080b5caae"
      },
      "source": [
        "tf.__version__"
      ],
      "execution_count": 2,
      "outputs": [
        {
          "output_type": "execute_result",
          "data": {
            "application/vnd.google.colaboratory.intrinsic": {
              "type": "string"
            },
            "text/plain": [
              "'2.2.0'"
            ]
          },
          "metadata": {
            "tags": []
          },
          "execution_count": 2
        }
      ]
    },
    {
      "cell_type": "markdown",
      "metadata": {
        "id": "2jslRAWuLPs9",
        "colab_type": "text"
      },
      "source": [
        "Results are not there cause its take much time to upload and train cnn.just source code is provided"
      ]
    },
    {
      "cell_type": "markdown",
      "metadata": {
        "id": "npwhGcNcHTgI",
        "colab_type": "text"
      },
      "source": [
        "Part1-Data Preprocessing"
      ]
    },
    {
      "cell_type": "markdown",
      "metadata": {
        "id": "MX1hMErfHeFX",
        "colab_type": "text"
      },
      "source": [
        "preprocessing the training set"
      ]
    },
    {
      "cell_type": "code",
      "metadata": {
        "id": "lXcfFvbaHiVt",
        "colab_type": "code",
        "colab": {}
      },
      "source": [
        "train_datagen=ImageDataGenerator(rescale=1./255,shear_range=0.2,zoom_range=0.2,horital_flip=True)\n",
        "training_set=train_datagen.flow_from_directory('train dataset directory',target_size=('image target size'),batch_size=32,class_mode='your images class mode i.e one of rgb,grayscale,rgba(3,1,4 channels in image respectively)')"
      ],
      "execution_count": null,
      "outputs": []
    },
    {
      "cell_type": "markdown",
      "metadata": {
        "id": "oIIuKYMYJpdw",
        "colab_type": "text"
      },
      "source": [
        "Preprocessing test set"
      ]
    },
    {
      "cell_type": "code",
      "metadata": {
        "id": "PruOmi6RJoJ9",
        "colab_type": "code",
        "colab": {}
      },
      "source": [
        "test_datagen=ImageDataGenerator(rescale=1./255)\n",
        "test_set=test_datagen.flow_from_directory('test dataset directory',target_size=('your image target size'),batch_size=32,class_mode='your images class mode i.e one of rgb,grayscale,rgba(3,1,4 channels in image respectively)')"
      ],
      "execution_count": null,
      "outputs": []
    },
    {
      "cell_type": "markdown",
      "metadata": {
        "id": "yiZI8TU-LeBE",
        "colab_type": "text"
      },
      "source": [
        "**Building CNN**"
      ]
    },
    {
      "cell_type": "markdown",
      "metadata": {
        "id": "SEuZw1jXLiYV",
        "colab_type": "text"
      },
      "source": [
        "Initializing the CNN"
      ]
    },
    {
      "cell_type": "code",
      "metadata": {
        "id": "0jYCbojcLmjW",
        "colab_type": "code",
        "colab": {}
      },
      "source": [
        "cnn=tf.kears.models.sequential()"
      ],
      "execution_count": null,
      "outputs": []
    },
    {
      "cell_type": "markdown",
      "metadata": {
        "id": "HzeYYXaXLsbq",
        "colab_type": "text"
      },
      "source": [
        "Input convolution layer"
      ]
    },
    {
      "cell_type": "code",
      "metadata": {
        "id": "1zsm64l0Lr2x",
        "colab_type": "code",
        "colab": {}
      },
      "source": [
        "cnn.add(tf.keras.layers.Conv2D(filters=32,kernal_size=3,activation='relu',input_shape=['your image input sghape']))"
      ],
      "execution_count": null,
      "outputs": []
    },
    {
      "cell_type": "markdown",
      "metadata": {
        "id": "96TTitsEMo1Z",
        "colab_type": "text"
      },
      "source": [
        "first pooling layer"
      ]
    },
    {
      "cell_type": "code",
      "metadata": {
        "id": "UNVVUjhrMajS",
        "colab_type": "code",
        "colab": {}
      },
      "source": [
        "cnn.add(tf.keras.layers.MaxPool2D(pool_size=2,stride=2))"
      ],
      "execution_count": null,
      "outputs": []
    },
    {
      "cell_type": "markdown",
      "metadata": {
        "id": "0odVU-f6MrZH",
        "colab_type": "text"
      },
      "source": [
        "second convolution layer"
      ]
    },
    {
      "cell_type": "code",
      "metadata": {
        "id": "UhLzxm2YMqMO",
        "colab_type": "code",
        "colab": {}
      },
      "source": [
        "cnn.add(tf.keras.layers.Conv2D(filters=32,kernal_size=3,activation='relu'))"
      ],
      "execution_count": null,
      "outputs": []
    },
    {
      "cell_type": "markdown",
      "metadata": {
        "id": "J1d0cIJ-M-16",
        "colab_type": "text"
      },
      "source": [
        "second pooling layer"
      ]
    },
    {
      "cell_type": "code",
      "metadata": {
        "id": "XW-MsgdzNB8X",
        "colab_type": "code",
        "colab": {}
      },
      "source": [
        "cnn.add(tf.keras.layers.MaxPool2D(pool_size=2,strides=2))"
      ],
      "execution_count": null,
      "outputs": []
    },
    {
      "cell_type": "markdown",
      "metadata": {
        "id": "Q-VyvT-ENMo2",
        "colab_type": "text"
      },
      "source": [
        "Now after applying series of convolution and pooling image is flattened into numeric arrays and thsi is input to our sequential fully connected  layers"
      ]
    },
    {
      "cell_type": "markdown",
      "metadata": {
        "id": "bhx2zZtRNfx1",
        "colab_type": "text"
      },
      "source": [
        "Flattening"
      ]
    },
    {
      "cell_type": "code",
      "metadata": {
        "id": "L_KkViTgNh1J",
        "colab_type": "code",
        "colab": {}
      },
      "source": [
        "cnn.add(tf.keras.layers.Flatten())"
      ],
      "execution_count": null,
      "outputs": []
    },
    {
      "cell_type": "markdown",
      "metadata": {
        "id": "W8PIrGWUNvQG",
        "colab_type": "text"
      },
      "source": [
        "Full connections"
      ]
    },
    {
      "cell_type": "code",
      "metadata": {
        "id": "RyzWNxzrNxqh",
        "colab_type": "code",
        "colab": {}
      },
      "source": [
        "cnn.add(tf.keras.layers.Dense(units=128,activation='relu'))"
      ],
      "execution_count": null,
      "outputs": []
    },
    {
      "cell_type": "markdown",
      "metadata": {
        "id": "5jH0od_UN7Gh",
        "colab_type": "text"
      },
      "source": [
        "Output layer"
      ]
    },
    {
      "cell_type": "code",
      "metadata": {
        "id": "S71tTw9iN9V_",
        "colab_type": "code",
        "colab": {}
      },
      "source": [
        "cnn.add(tf.keras.layers.Dense(units=1,activation='sigmoid'))"
      ],
      "execution_count": null,
      "outputs": []
    },
    {
      "cell_type": "markdown",
      "metadata": {
        "id": "CwpOcQTsOHab",
        "colab_type": "text"
      },
      "source": [
        "for output layer no of units depend on nof different classes in target images and activation is sigmoid for binary,softmax for multi class classification"
      ]
    },
    {
      "cell_type": "markdown",
      "metadata": {
        "id": "huqGpXUcOgiX",
        "colab_type": "text"
      },
      "source": [
        "**first pooling layer**"
      ]
    },
    {
      "cell_type": "markdown",
      "metadata": {
        "id": "eSJnyXNwOioI",
        "colab_type": "text"
      },
      "source": [
        "Compiling cnn"
      ]
    },
    {
      "cell_type": "code",
      "metadata": {
        "id": "ccoXwtwWOlst",
        "colab_type": "code",
        "colab": {}
      },
      "source": [
        "cnn.compile(optimizer='adam',loss='binary_crossentropy',metrics=['accuracy'])"
      ],
      "execution_count": null,
      "outputs": []
    },
    {
      "cell_type": "markdown",
      "metadata": {
        "id": "H98Tx9lLbsQ5",
        "colab_type": "text"
      },
      "source": [
        "Training the cnn on the training set and evaluating performance on test set"
      ]
    },
    {
      "cell_type": "code",
      "metadata": {
        "id": "eYRI2XWPbrbW",
        "colab_type": "code",
        "colab": {}
      },
      "source": [
        "cnn.fit(x=training_set,validation_data=test_set,epochs=25)"
      ],
      "execution_count": null,
      "outputs": []
    }
  ]
}
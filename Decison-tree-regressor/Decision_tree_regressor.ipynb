{
  "nbformat": 4,
  "nbformat_minor": 0,
  "metadata": {
    "colab": {
      "name": "Decision_tree_regressor.ipynb",
      "provenance": []
    },
    "kernelspec": {
      "name": "python3",
      "display_name": "Python 3"
    }
  },
  "cells": [
    {
      "cell_type": "markdown",
      "metadata": {
        "id": "anZrK160Z82Y",
        "colab_type": "text"
      },
      "source": [
        "# **Decision Tree Regressor**"
      ]
    },
    {
      "cell_type": "markdown",
      "metadata": {
        "id": "eypMiaa2aB7W",
        "colab_type": "text"
      },
      "source": [
        "importing required libraries"
      ]
    },
    {
      "cell_type": "code",
      "metadata": {
        "id": "fSVjsLdlZRME",
        "colab_type": "code",
        "colab": {}
      },
      "source": [
        "import matplotlib.pyplot as plt \n",
        "import numpy as np\n",
        "import pandas as pd"
      ],
      "execution_count": 76,
      "outputs": []
    },
    {
      "cell_type": "markdown",
      "metadata": {
        "id": "Awu2hYjnaUbL",
        "colab_type": "text"
      },
      "source": [
        "setiing max rows and max columns in pandas"
      ]
    },
    {
      "cell_type": "code",
      "metadata": {
        "id": "dpo1A853aY8_",
        "colab_type": "code",
        "colab": {}
      },
      "source": [
        "pd.set_option('display.max_rows',100)\n",
        "pd.set_option('display.max_columns',100)"
      ],
      "execution_count": 77,
      "outputs": []
    },
    {
      "cell_type": "markdown",
      "metadata": {
        "id": "NSWG1teheJ_t",
        "colab_type": "text"
      },
      "source": [
        "importing dataset"
      ]
    },
    {
      "cell_type": "code",
      "metadata": {
        "id": "x29Y3cM4eTi6",
        "colab_type": "code",
        "colab": {
          "base_uri": "https://localhost:8080/",
          "height": 202
        },
        "outputId": "a5d793d5-9cf4-4fdf-f855-2c520ec066b1"
      },
      "source": [
        "dataset=pd.read_csv('Position_Salaries.csv')\n",
        "print(dataset)"
      ],
      "execution_count": 78,
      "outputs": [
        {
          "output_type": "stream",
          "text": [
            "            Position  Level   Salary\n",
            "0   Business Analyst      1    45000\n",
            "1  Junior Consultant      2    50000\n",
            "2  Senior Consultant      3    60000\n",
            "3            Manager      4    80000\n",
            "4    Country Manager      5   110000\n",
            "5     Region Manager      6   150000\n",
            "6            Partner      7   200000\n",
            "7     Senior Partner      8   300000\n",
            "8            C-level      9   500000\n",
            "9                CEO     10  1000000\n"
          ],
          "name": "stdout"
        }
      ]
    },
    {
      "cell_type": "markdown",
      "metadata": {
        "id": "xEZeIU9bfikW",
        "colab_type": "text"
      },
      "source": [
        "we can observe that level of job is coded according to position of job so position is a redundant feature"
      ]
    },
    {
      "cell_type": "markdown",
      "metadata": {
        "id": "354drAfJfy-p",
        "colab_type": "text"
      },
      "source": [
        "dropping redundant features"
      ]
    },
    {
      "cell_type": "code",
      "metadata": {
        "id": "vle05ap-f2LY",
        "colab_type": "code",
        "colab": {
          "base_uri": "https://localhost:8080/",
          "height": 202
        },
        "outputId": "2a5added-2fa8-4458-cc21-12e47d921624"
      },
      "source": [
        "dataset.drop(columns=['Position'],inplace=True)\n",
        "print(dataset)"
      ],
      "execution_count": 79,
      "outputs": [
        {
          "output_type": "stream",
          "text": [
            "   Level   Salary\n",
            "0      1    45000\n",
            "1      2    50000\n",
            "2      3    60000\n",
            "3      4    80000\n",
            "4      5   110000\n",
            "5      6   150000\n",
            "6      7   200000\n",
            "7      8   300000\n",
            "8      9   500000\n",
            "9     10  1000000\n"
          ],
          "name": "stdout"
        }
      ]
    },
    {
      "cell_type": "markdown",
      "metadata": {
        "id": "Ktknt-YegK5v",
        "colab_type": "text"
      },
      "source": [
        "we dont have any missing values and categorical values"
      ]
    },
    {
      "cell_type": "markdown",
      "metadata": {
        "id": "EA6YoKaBgQYZ",
        "colab_type": "text"
      },
      "source": [
        "splitting dataset into dependent and independent variables"
      ]
    },
    {
      "cell_type": "code",
      "metadata": {
        "id": "El1Wn4FmgYOL",
        "colab_type": "code",
        "colab": {}
      },
      "source": [
        "x=dataset.iloc[:,0:1].values\n",
        "y=dataset.iloc[:,1].values"
      ],
      "execution_count": 80,
      "outputs": []
    },
    {
      "cell_type": "markdown",
      "metadata": {
        "id": "5fcdJi6ygh8M",
        "colab_type": "text"
      },
      "source": [
        "splitting into train and test"
      ]
    },
    {
      "cell_type": "code",
      "metadata": {
        "id": "P_xWB24CgueK",
        "colab_type": "code",
        "colab": {}
      },
      "source": [
        "from sklearn.model_selection import train_test_split\n",
        "x_train,x_test,y_train,y_test=train_test_split(x,y,test_size=0.2,random_state=0)"
      ],
      "execution_count": 81,
      "outputs": []
    },
    {
      "cell_type": "markdown",
      "metadata": {
        "id": "p9wPbgmzhfiP",
        "colab_type": "text"
      },
      "source": [
        "training random forest regressor"
      ]
    },
    {
      "cell_type": "code",
      "metadata": {
        "id": "QySNqHuKhjq7",
        "colab_type": "code",
        "colab": {
          "base_uri": "https://localhost:8080/",
          "height": 118
        },
        "outputId": "e4da96ae-8de1-4e5d-b23b-65f8b7233ff5"
      },
      "source": [
        "from sklearn.tree import DecisionTreeRegressor\n",
        "dtr=DecisionTreeRegressor(random_state=0)\n",
        "dtr.fit(x_train,y_train)"
      ],
      "execution_count": 82,
      "outputs": [
        {
          "output_type": "execute_result",
          "data": {
            "text/plain": [
              "DecisionTreeRegressor(ccp_alpha=0.0, criterion='mse', max_depth=None,\n",
              "                      max_features=None, max_leaf_nodes=None,\n",
              "                      min_impurity_decrease=0.0, min_impurity_split=None,\n",
              "                      min_samples_leaf=1, min_samples_split=2,\n",
              "                      min_weight_fraction_leaf=0.0, presort='deprecated',\n",
              "                      random_state=0, splitter='best')"
            ]
          },
          "metadata": {
            "tags": []
          },
          "execution_count": 82
        }
      ]
    },
    {
      "cell_type": "markdown",
      "metadata": {
        "id": "d1TPFw5UlbLf",
        "colab_type": "text"
      },
      "source": [
        "predicting the test set "
      ]
    },
    {
      "cell_type": "code",
      "metadata": {
        "id": "WRoRqC-_leDC",
        "colab_type": "code",
        "colab": {}
      },
      "source": [
        "y_pred=dtr.predict(x_test)"
      ],
      "execution_count": 83,
      "outputs": []
    },
    {
      "cell_type": "markdown",
      "metadata": {
        "id": "ZLUSg-P9s0gR",
        "colab_type": "text"
      },
      "source": [
        "r2_score"
      ]
    },
    {
      "cell_type": "code",
      "metadata": {
        "id": "5j4MtIdAmmR1",
        "colab_type": "code",
        "colab": {
          "base_uri": "https://localhost:8080/",
          "height": 34
        },
        "outputId": "1ec1fbf4-a110-4a57-bb18-0ede7c84cd7e"
      },
      "source": [
        "from sklearn.metrics import r2_score\n",
        "r2_score(y_test,y_pred)"
      ],
      "execution_count": 84,
      "outputs": [
        {
          "output_type": "execute_result",
          "data": {
            "text/plain": [
              "0.5857438016528926"
            ]
          },
          "metadata": {
            "tags": []
          },
          "execution_count": 84
        }
      ]
    },
    {
      "cell_type": "markdown",
      "metadata": {
        "id": "UkNNWkcnunzD",
        "colab_type": "text"
      },
      "source": [
        "here we got r2 score arounfd 60 we can improve it by random forest regressor"
      ]
    },
    {
      "cell_type": "markdown",
      "metadata": {
        "id": "Ch_a1kEho_x1",
        "colab_type": "text"
      },
      "source": [
        "Visualizing the results"
      ]
    },
    {
      "cell_type": "code",
      "metadata": {
        "id": "1mzH0FlepR6H",
        "colab_type": "code",
        "colab": {
          "base_uri": "https://localhost:8080/",
          "height": 295
        },
        "outputId": "a61764fe-206e-49ab-9ff8-3fb194ffb9a3"
      },
      "source": [
        "x_grid=np.arange(min(x),max(x),0.1)\n",
        "x_grid=x_grid.reshape((len(x_grid),1))\n",
        "plt.scatter(x,y,color='red')\n",
        "plt.plot(x_grid,dtr.predict(x_grid),color='green')\n",
        "plt.title('Truth or Bluff(Random forest regressor)')\n",
        "plt.xlabel('position level')\n",
        "plt.ylabel('salary')\n",
        "plt.show()"
      ],
      "execution_count": 85,
      "outputs": [
        {
          "output_type": "display_data",
          "data": {
            "image/png": "[encoded data removed]",
            "text/plain": [
              "<Figure size 432x288 with 1 Axes>"
            ]
          },
          "metadata": {
            "tags": [],
            "needs_background": "light"
          }
        }
      ]
    }
  ]
}